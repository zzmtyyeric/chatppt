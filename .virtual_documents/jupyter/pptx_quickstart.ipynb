





from pptx import Presentation
from pptx.util import Inches


# 创建一个新的 PowerPoint 文件
presentation = Presentation()

# 保存 PPTX 文件
presentation.save("empty_presentation.pptx")


# 打开现有的 PPTX 文件，可以传递文件路径
presentation = Presentation("../outputs/ChatPPT_Demo.pptx")

# 保存刚打开的 PPTX 文件
presentation.save("ChatPPT_Demo.pptx")





template = Presentation("../templates/MasterTemplate.pptx")


template.slide_layouts


slide_layout = template.slide_layouts[0]
slide_layout


slide_layout.name


for s in template.slide_layouts:
    print(s.name)


slide_layout = template.slide_layouts[-2]


slide_layout.name





for p in slide_layout.placeholders:
    print(p.name)


# LayoutPlaceholder 类型
type(slide_layout.placeholders[0])











presentation = Presentation("../outputs/ChatPPT Demo.pptx")


slide = presentation.slides[0]


slide.shapes[0].text


# 打印每页形状名称
for idx, slide in enumerate(presentation.slides):
    print(f"slide id:{idx}")
    for shape in slide.shapes:
        print(f"shape name:{shape.name}")





# 打印每页形状 名称和文本，如果是非文本（如 PlaceholderPicture）将会报错
for idx, slide in enumerate(presentation.slides):
    print(f"[slide id]:{idx}")
    for shape in slide.shapes:
        print(f"shape name:{shape.name}")
        print(f"shape text:{shape.text}")
        print("\n")





# 完整打印 Slides 每一页的所有属性
for s in presentation.slides:
    print(f"Slide ID: {s.slide_id}")
    print(f"  Layout: {s.slide_layout}")
    print(f"  Shapes: {len(s.shapes)} shapes")
    print(f"  Placeholders: {len(s.placeholders)} placeholders")

    print("  Shape Details:")
    for shape in s.shapes:
        print(f"    - Shape Name: {shape.name}, Type: {shape.shape_type}")

    print("  Placeholder Details:")
    for placeholder in s.placeholders:
        print(f"    - Placeholder ID: {placeholder.placeholder_format.idx}, Type: {placeholder.placeholder_format.type}")

    print("\n")  # Adding a new line between slides for better readability





# 使用 Slide_ID 获取指定页面
last_slide_layout = presentation.slides.get(slide_id=259).slide_layout

# 新增一页幻灯片
new_slide = presentation.slides.add_slide(last_slide_layout)


# 总页数变成了 5
len(presentation.slides)


# 修改新增页标题


new_slide.shapes[0].name


new_slide.shapes[0].text = "测试新增页面标题"


presentation.save("ChatPPT_update.pptx")











from pptx.util import Inches, Pt
from pptx.dml.color import RGBColor


# 添加文本内容幻灯片
slide_layout = presentation.slide_layouts[-1]
slide = presentation.slides.add_slide(slide_layout)


# 打印新增页属性
print(f"Slide ID: {slide.slide_id}")
print(f"  Layout: {slide.slide_layout}")
print(f"  Shapes: {len(slide.shapes)} shapes")
print(f"  Placeholders: {len(slide.placeholders)} placeholders")

print("  Shape Details:")
for shape in slide.shapes:
    print(f"    - Shape Name: {shape.name}, Type: {shape.shape_type}")

print("  Placeholder Details:")
for placeholder in slide.placeholders:
    print(f"    - Placeholder ID: {placeholder.placeholder_format.idx}, Type: {placeholder.placeholder_format.type}")


# 填充原有布局中的占位符（标题和文本）
title = slide.shapes.title
title.text = "python-pptx 新增文本内容示例"
content = slide.placeholders[14]
content.text = "填充原有的文本占位符"


# 新增文本框
left = Inches(6)
top = Inches(5)
width = Inches(5)
height = Inches(1)
textbox = slide.shapes.add_textbox(left, top, width, height)
text_frame = textbox.text_frame
text_frame.text = "额外的文本框内容"

# 格式化文本
paragraph = text_frame.add_paragraph()  # 添加新段落
paragraph.text = "这是一个新的段落。"  # 设置段落文本

# 设置字体
run = paragraph.add_run()  # 添加文本运行
run.text = " 这部分是加粗的文本。"  # 设置文本内容
run.font.bold = True  # 设置为粗体
run.font.size = Pt(16)  # 设置字体大小
run.font.color.rgb = RGBColor(255, 0, 0)  # 设置字体颜色为红色

# 保存 PPTX 文件
presentation.save("ChatPPT_append_text.pptx")


















